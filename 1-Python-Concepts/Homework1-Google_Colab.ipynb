{
  "cells": [
    {
      "cell_type": "markdown",
      "metadata": {
        "id": "view-in-github",
        "colab_type": "text"
      },
      "source": [
        "<a href=\"https://colab.research.google.com/github/Milena-H/IDK/blob/main/1-Python-Concepts/Homework1-Google_Colab.ipynb\" target=\"_parent\"><img src=\"https://colab.research.google.com/assets/colab-badge.svg\" alt=\"Open In Colab\"/></a>"
      ]
    },
    {
      "cell_type": "markdown",
      "id": "8d44c10e",
      "metadata": {
        "id": "8d44c10e"
      },
      "source": [
        "### Task 1\n",
        "Create a markdown cell below and give a title as Homework1 - yourname"
      ]
    },
    {
      "cell_type": "markdown",
      "id": "dce947ac",
      "metadata": {
        "id": "dce947ac"
      },
      "source": [
        "### Task 2\n",
        "Run the below cell and check the outcome"
      ]
    },
    {
      "cell_type": "code",
      "execution_count": null,
      "id": "a47b4f74-9853-464b-861f-4b9d62fe07fd",
      "metadata": {
        "colab": {
          "base_uri": "https://localhost:8080/"
        },
        "id": "a47b4f74-9853-464b-861f-4b9d62fe07fd",
        "outputId": "989ba306-f581-4cd8-ff19-eccd4883328f"
      },
      "outputs": [
        {
          "name": "stdout",
          "output_type": "stream",
          "text": [
            "Hello Intro to Computer Science\n"
          ]
        }
      ],
      "source": [
        "print(\"Hello Intro to Computer Science\")"
      ]
    },
    {
      "cell_type": "markdown",
      "id": "15d8c5eb",
      "metadata": {
        "id": "15d8c5eb"
      },
      "source": [
        "### Task 3\n",
        "Create a code cell and write print statement with your name as a string"
      ]
    },
    {
      "cell_type": "code",
      "execution_count": 1,
      "id": "dec8667e-3ea6-4064-94ab-e07862be9494",
      "metadata": {
        "id": "dec8667e-3ea6-4064-94ab-e07862be9494",
        "outputId": "e1387cb0-363b-4a33-ee82-6814684e52a7",
        "colab": {
          "base_uri": "https://localhost:8080/"
        }
      },
      "outputs": [
        {
          "output_type": "stream",
          "name": "stdout",
          "text": [
            "Milena\n"
          ]
        }
      ],
      "source": [
        "print (\"Milena\")\n"
      ]
    },
    {
      "cell_type": "markdown",
      "id": "36eba1b8",
      "metadata": {
        "id": "36eba1b8"
      },
      "source": [
        "### Task 4\n",
        "Assing your name to a variable which is called myname, then print the variable\n"
      ]
    },
    {
      "cell_type": "code",
      "execution_count": 3,
      "id": "b9d4b93c",
      "metadata": {
        "id": "b9d4b93c",
        "outputId": "fe0b7990-c8ae-4e93-aecd-73b27e8d5c39",
        "colab": {
          "base_uri": "https://localhost:8080/"
        }
      },
      "outputs": [
        {
          "output_type": "stream",
          "name": "stdout",
          "text": [
            "Milena\n"
          ]
        }
      ],
      "source": [
        "my_name= \"Milena\"\n",
        "print(my_name)"
      ]
    },
    {
      "cell_type": "markdown",
      "id": "c4769a69",
      "metadata": {
        "id": "c4769a69"
      },
      "source": [
        "### Task 5\n",
        "Write a print statement which prints \"Hello, yourname\" by combining string and variable"
      ]
    },
    {
      "cell_type": "code",
      "execution_count": 4,
      "id": "01a807d5-8849-44ee-b6be-5bcd09032c55",
      "metadata": {
        "id": "01a807d5-8849-44ee-b6be-5bcd09032c55",
        "outputId": "abd396c9-c7fd-40f4-c2a5-674e1737880c",
        "colab": {
          "base_uri": "https://localhost:8080/"
        }
      },
      "outputs": [
        {
          "output_type": "stream",
          "name": "stdout",
          "text": [
            "Hello, Milena\n"
          ]
        }
      ],
      "source": [
        "print(f'Hello, {my_name}')"
      ]
    },
    {
      "cell_type": "markdown",
      "id": "5aba3207",
      "metadata": {
        "id": "5aba3207"
      },
      "source": [
        "### Task 6\n",
        "\n",
        "Run all the cells in the order.\n",
        "Move the order of the cells, and try to run them again.\n",
        "What is your observation?"
      ]
    },
    {
      "cell_type": "code",
      "execution_count": null,
      "id": "YtKBIxH86-e9",
      "metadata": {
        "id": "YtKBIxH86-e9"
      },
      "outputs": [],
      "source": []
    }
  ],
  "metadata": {
    "colab": {
      "provenance": [],
      "include_colab_link": true
    },
    "kernelspec": {
      "display_name": "Python 3 (ipykernel)",
      "language": "python",
      "name": "python3"
    },
    "language_info": {
      "codemirror_mode": {
        "name": "ipython",
        "version": 3
      },
      "file_extension": ".py",
      "mimetype": "text/x-python",
      "name": "python",
      "nbconvert_exporter": "python",
      "pygments_lexer": "ipython3",
      "version": "3.11.3"
    }
  },
  "nbformat": 4,
  "nbformat_minor": 5
}