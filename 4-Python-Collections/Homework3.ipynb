{
  "cells": [
    {
      "cell_type": "markdown",
      "metadata": {
        "id": "view-in-github",
        "colab_type": "text"
      },
      "source": [
        "<a href=\"https://colab.research.google.com/github/Milena-H/IDK/blob/main/4-Python-Collections/Homework3.ipynb\" target=\"_parent\"><img src=\"https://colab.research.google.com/assets/colab-badge.svg\" alt=\"Open In Colab\"/></a>"
      ]
    },
    {
      "cell_type": "markdown",
      "id": "782dfb9f-b24b-4025-b7fa-9c2c880fd39d",
      "metadata": {
        "id": "782dfb9f-b24b-4025-b7fa-9c2c880fd39d"
      },
      "source": [
        "## Homework 2\n"
      ]
    },
    {
      "cell_type": "markdown",
      "id": "630b5790-cc56-46e9-8a7d-fa2a73829754",
      "metadata": {
        "id": "630b5790-cc56-46e9-8a7d-fa2a73829754"
      },
      "source": [
        "Names of group are Deniz, Rachel, Olivia, Oksana, Milena, Amy, Usman, Anika"
      ]
    },
    {
      "cell_type": "markdown",
      "id": "c72929f4-b0da-4c3b-88b5-30ce48d4be44",
      "metadata": {
        "id": "c72929f4-b0da-4c3b-88b5-30ce48d4be44"
      },
      "source": [
        "### Task 1\n",
        "\n",
        "- Create a list with the first names of your breakout room group, and assign this to the variable `first_names`. Print the list.\n",
        "- Print out the value of the second name in `first_names`. (Hint: use the bracket notation asa with strings.)\n",
        "- Print the length of the list of names.\n",
        "- Create a slice of the list containing the first two names and print this slice."
      ]
    },
    {
      "cell_type": "code",
      "execution_count": 1,
      "id": "5bb122d3-946e-4970-a628-4706ea2defc1",
      "metadata": {
        "id": "5bb122d3-946e-4970-a628-4706ea2defc1",
        "outputId": "4a4f2a06-24da-4c6f-ed68-ec8127406cb5",
        "colab": {
          "base_uri": "https://localhost:8080/"
        }
      },
      "outputs": [
        {
          "output_type": "stream",
          "name": "stdout",
          "text": [
            "['Milena', 'Maria', 'Rachel']\n",
            "Maria\n",
            "3\n",
            "['Milena', 'Maria']\n"
          ]
        }
      ],
      "source": [
        "first_names = [\"Milena\", \"Maria\", \"Rachel\"]\n",
        "\n",
        "print(first_names)\n",
        "\n",
        "print(first_names[1])\n",
        "\n",
        "print(len(first_names))\n",
        "\n",
        "# a slice of the list containing the first two names\n",
        "first_two_names = first_names[:2]\n",
        "print(first_two_names)"
      ]
    },
    {
      "cell_type": "markdown",
      "id": "dd638add-88ac-4e7b-ab46-ba1150b37a5e",
      "metadata": {
        "id": "dd638add-88ac-4e7b-ab46-ba1150b37a5e"
      },
      "source": [
        "### Task 2 - Appending and removing elements from a list\n",
        "\n",
        "There are several methods that you can use with lists. The `.append()` method adds an item to a list, while the `.remove()` method removes an item from the list:\n",
        "\n",
        "```py\n",
        "fruits = ['apple','banana','orange']\n",
        "fruits.append('mango')\n",
        "# value of fruits is now: ['apple','banana','orange','mango']\n",
        "fruits.remove('banana')\n",
        "# value of fruits is now: ['apple','orange','mango']\n",
        "```\n",
        "\n",
        "- Using the list of your names (`first_names`), add one name and print the list.\n",
        "- Using the list of your names (`first_names`), remove one name and print the list."
      ]
    },
    {
      "cell_type": "code",
      "execution_count": 2,
      "id": "2b796072-536a-45dd-aa4b-7213bc0252e3",
      "metadata": {
        "id": "2b796072-536a-45dd-aa4b-7213bc0252e3",
        "outputId": "6ce1edd3-7c88-49e6-e849-5c9e7b4d6099",
        "colab": {
          "base_uri": "https://localhost:8080/"
        }
      },
      "outputs": [
        {
          "output_type": "stream",
          "name": "stdout",
          "text": [
            "['Milena', 'Maria', 'Rachel', 'Deniz']\n"
          ]
        }
      ],
      "source": [
        "first_names.append(\"Deniz\")\n",
        "\n",
        "print(first_names)"
      ]
    },
    {
      "cell_type": "code",
      "source": [
        "first_names.remove(\"Milena\")\n",
        "print(first_names)"
      ],
      "metadata": {
        "id": "dG4zkz5L6TRs",
        "outputId": "f65b846f-7d85-42a5-a7a2-b65cb74bd92d",
        "colab": {
          "base_uri": "https://localhost:8080/"
        }
      },
      "id": "dG4zkz5L6TRs",
      "execution_count": 3,
      "outputs": [
        {
          "output_type": "stream",
          "name": "stdout",
          "text": [
            "['Maria', 'Rachel', 'Deniz']\n"
          ]
        }
      ]
    },
    {
      "cell_type": "markdown",
      "id": "3fd37aa8-96a7-46a5-bd38-35d77311536f",
      "metadata": {
        "id": "3fd37aa8-96a7-46a5-bd38-35d77311536f"
      },
      "source": [
        "### Task 3 - Dictionaries\n",
        "\n",
        "- Create a dictionary called `person` with the keys `first_name` amd `last_name` and give them some values. Print out the dictionary.\n",
        "- In the `person` dictionary, assign the `job` key to the value `programmer`, and print out the dictionary.\n",
        "- Access and print out the value of the `first_name` key in the `person` dictionary.\n",
        "- Print out the keys, values, and items in the `person` dictionary."
      ]
    },
    {
      "cell_type": "code",
      "execution_count": 6,
      "id": "998059af-7a3c-48b6-9257-eb785201f041",
      "metadata": {
        "id": "998059af-7a3c-48b6-9257-eb785201f041",
        "outputId": "3bfd27ba-6004-498b-f2a1-6d9645bab121",
        "colab": {
          "base_uri": "https://localhost:8080/"
        }
      },
      "outputs": [
        {
          "output_type": "stream",
          "name": "stdout",
          "text": [
            "{'first_name': 'Milena', 'last_name': 'H'}\n",
            "{'first_name': 'Milena', 'last_name': 'H', 'job': 'programmer'}\n",
            "Milena\n"
          ]
        }
      ],
      "source": [
        "person = {\n",
        "  \"first_name\": \"Milena\",\n",
        "  \"last_name\": \"H\"\n",
        "}\n",
        "print(person)\n",
        "\n",
        "person[\"job\"] = \"programmer\"\n",
        "print(person)\n",
        "\n",
        "print(person['first_name'])"
      ]
    },
    {
      "cell_type": "code",
      "source": [
        "#  the keys\n",
        "print(person.keys())\n",
        "\n",
        "#  the values\n",
        "print(person.values())\n",
        "\n",
        "#  the items\n",
        "print(person.items())"
      ],
      "metadata": {
        "id": "iztFYwEUD3NE",
        "outputId": "73f5e584-7ebc-42da-a94b-02f8caf752ee",
        "colab": {
          "base_uri": "https://localhost:8080/"
        }
      },
      "id": "iztFYwEUD3NE",
      "execution_count": 7,
      "outputs": [
        {
          "output_type": "stream",
          "name": "stdout",
          "text": [
            "dict_keys(['first_name', 'last_name', 'job'])\n",
            "dict_values(['Milena', 'H', 'programmer'])\n",
            "dict_items([('first_name', 'Milena'), ('last_name', 'H'), ('job', 'programmer')])\n"
          ]
        }
      ]
    },
    {
      "cell_type": "markdown",
      "id": "fcf098b3-7dd0-4844-a094-710b8c906d75",
      "metadata": {
        "id": "fcf098b3-7dd0-4844-a094-710b8c906d75"
      },
      "source": [
        "\n",
        "### Task 4 - Booleans\n",
        "\n",
        "- Create a variable called `boolean_var` and set it to `False`.\n",
        "- Print the value of the opposite of `boolean_var` (using `not`)."
      ]
    },
    {
      "cell_type": "code",
      "execution_count": 9,
      "id": "3a312406-5737-4e25-8609-91ba0625eb88",
      "metadata": {
        "id": "3a312406-5737-4e25-8609-91ba0625eb88",
        "outputId": "85ec10e3-7fdc-477c-9961-dbdf44a27f94",
        "colab": {
          "base_uri": "https://localhost:8080/"
        }
      },
      "outputs": [
        {
          "output_type": "stream",
          "name": "stdout",
          "text": [
            "True\n"
          ]
        }
      ],
      "source": [
        "boolean_var = False\n",
        "\n",
        "print(not boolean_var)"
      ]
    },
    {
      "cell_type": "markdown",
      "id": "7ca1b3b5-a626-4cd0-a259-6201650e52d1",
      "metadata": {
        "id": "7ca1b3b5-a626-4cd0-a259-6201650e52d1"
      },
      "source": [
        "### Task 5 - Tuples\n",
        "- Create a tuple called `first_names_tuple` with the same names from your list. Print the tuple. Validate the data_type.\n",
        "- Print the first item of your tuple.\n",
        "- Print the number of items in your tuple.\n",
        "- Print the last item of your tuple.\n",
        "- Use a range of indexes to print the second and third item in the tuple.\n",
        "- If the name \"Oskana\" is on your tuple print \"Yes, Oskana is in our group\"\n",
        "- Once a tuple is created, you cannot change its values. Tuples are unchangeable. But you can convert the tuple into a list, change the list, and convert the list back into a tuple. Change the first element of your tuple to \"Nesli\".\n",
        "- Since tuples are unchangable, they dont have append() method but you can add an item to tuple by converting to list and converting back to a tuple. Convert the tuple into a list, add \"Alex\", and convert it back into a tuple.\n",
        "- Create a new tuple with the value \"Ali\", and add that tuple to your `first_names_tuple`\n",
        "- Print the `first_names_tuple`\n",
        "- Create a tuple with the values \"apple\", \"banana\", \"cherry\", assign the value of the tuples to variable called a thier colors. Hint:Google it \"Unpacking Tuple\""
      ]
    },
    {
      "cell_type": "markdown",
      "id": "9af809c3",
      "metadata": {
        "id": "9af809c3"
      },
      "source": []
    },
    {
      "cell_type": "code",
      "source": [
        "first_names_tuple = (\"Deniz\", \"Rachel\", \"Olivia\", \"Oksana\", \"Milena\", \"Amy\")\n",
        "\n",
        "print(first_names_tuple)\n",
        "\n",
        "print(type(first_names_tuple))\n",
        "\n",
        "print(first_names_tuple[0])\n",
        "\n",
        "print(len(first_names_tuple))\n",
        "\n",
        "print(first_names_tuple[-1])\n",
        "\n",
        "#item 3\n",
        "print(first_names_tuple[1:3])\n",
        "\n",
        "if \"Oksana\" in first_names_tuple:\n",
        "    print(\"Yes, Oksana is in our group.\")\n",
        "else:\n",
        "    print(\"No, Oksana is not in our group.\")\n"
      ],
      "metadata": {
        "id": "veA0vdmgEQOU",
        "outputId": "4ddee7b6-e376-42fa-f5eb-306d126e5dfb",
        "colab": {
          "base_uri": "https://localhost:8080/"
        }
      },
      "id": "veA0vdmgEQOU",
      "execution_count": 12,
      "outputs": [
        {
          "output_type": "stream",
          "name": "stdout",
          "text": [
            "('Deniz', 'Rachel', 'Olivia', 'Oksana', 'Milena', 'Amy')\n",
            "<class 'tuple'>\n",
            "Deniz\n",
            "6\n",
            "Amy\n",
            "('Rachel', 'Olivia')\n",
            "Yes, Oksana is in our group.\n"
          ]
        }
      ]
    },
    {
      "cell_type": "code",
      "source": [
        "first_names_list = list(first_names_tuple)\n",
        "\n",
        "first_names_list[0] = \"Nesli\"\n",
        "\n",
        "first_names_tuple_new = tuple(first_names_list)\n",
        "\n",
        "print(first_names_tuple_new)"
      ],
      "metadata": {
        "id": "VgBQ1I0YFR2o",
        "outputId": "3955b799-af94-49a7-9fc3-ae00f159feb7",
        "colab": {
          "base_uri": "https://localhost:8080/"
        }
      },
      "id": "VgBQ1I0YFR2o",
      "execution_count": 11,
      "outputs": [
        {
          "output_type": "stream",
          "name": "stdout",
          "text": [
            "('Nesli', 'Rachel', 'Olivia', 'Oksana', 'Milena', 'Amy')\n"
          ]
        }
      ]
    },
    {
      "cell_type": "markdown",
      "id": "aa56f8e9",
      "metadata": {
        "id": "aa56f8e9"
      },
      "source": [
        "### Task 6 - Sets\n",
        "\n",
        "- Create a set called `first_names_set` with the same names from your list. Print the set. Validate data_type of the set.\n",
        "- If the name \"Oskana\" is on your set print \"Yes, Oskana is in our group\"\n",
        "- Use add method to add \"Nesli\" to the first_names_set\n",
        "- Add the elements of the random_names to your set random_names=[\"Alex\", \"Alice\" , \"Ali\"]\n",
        "- Use remove method to remove Alice from your first_names_set\n",
        "- - Print the `first_names_sets`"
      ]
    },
    {
      "cell_type": "code",
      "execution_count": 14,
      "id": "f742f709-cc09-447a-b43e-8ae3581dca3b",
      "metadata": {
        "id": "f742f709-cc09-447a-b43e-8ae3581dca3b",
        "outputId": "bfefbde4-f1d8-45af-dbf7-718f4c6633fb",
        "colab": {
          "base_uri": "https://localhost:8080/"
        }
      },
      "outputs": [
        {
          "output_type": "stream",
          "name": "stdout",
          "text": [
            "{'Olivia', 'Amy', 'Rachel', 'Deniz', 'Milena', 'Oksana'}\n",
            "<class 'set'>\n",
            "No, Oskana is not in our group.\n",
            "{'Olivia', 'Amy', 'Rachel', 'Deniz', 'Milena', 'Oksana', 'Nesli'}\n",
            "{'Ali', 'Rachel', 'Olivia', 'Amy', 'Deniz', 'Alex', 'Nesli', 'Oksana', 'Alice', 'Milena'}\n",
            "{'Ali', 'Rachel', 'Olivia', 'Amy', 'Deniz', 'Alex', 'Nesli', 'Oksana', 'Milena'}\n"
          ]
        }
      ],
      "source": [
        "first_names_set = {\"Deniz\", \"Rachel\", \"Olivia\", \"Oksana\", \"Milena\", \"Amy\"}\n",
        "\n",
        "print(first_names_set)\n",
        "\n",
        "print(type(first_names_set))\n",
        "\n",
        "if \"Oskana\" in first_names_set:\n",
        "    print(\"Yes, Oskana is in our group.\")\n",
        "else:\n",
        "    print(\"No, Oskana is not in our group.\")\n",
        "\n",
        "first_names_set.add(\"Nesli\")\n",
        "print(first_names_set)\n",
        "\n",
        "random_names = [\"Alex\", \"Alice\", \"Ali\"]\n",
        "first_names_set.update(random_names)\n",
        "print(first_names_set)\n",
        "\n",
        "first_names_set.remove(\"Alice\")\n",
        "print(first_names_set)"
      ]
    }
  ],
  "metadata": {
    "kernelspec": {
      "display_name": "Python 3 (ipykernel)",
      "language": "python",
      "name": "python3"
    },
    "language_info": {
      "codemirror_mode": {
        "name": "ipython",
        "version": 3
      },
      "file_extension": ".py",
      "mimetype": "text/x-python",
      "name": "python",
      "nbconvert_exporter": "python",
      "pygments_lexer": "ipython3",
      "version": "3.11.3"
    },
    "vscode": {
      "interpreter": {
        "hash": "916dbcbb3f70747c44a77c7bcd40155683ae19c65e1c03b4aa3499c5328201f1"
      }
    },
    "colab": {
      "provenance": [],
      "include_colab_link": true
    }
  },
  "nbformat": 4,
  "nbformat_minor": 5
}