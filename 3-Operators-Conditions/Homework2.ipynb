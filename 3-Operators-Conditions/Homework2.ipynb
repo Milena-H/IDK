{
  "cells": [
    {
      "cell_type": "markdown",
      "metadata": {
        "id": "view-in-github",
        "colab_type": "text"
      },
      "source": [
        "<a href=\"https://colab.research.google.com/github/Milena-H/IDK/blob/main/3-Operators-Conditions/Homework2.ipynb\" target=\"_parent\"><img src=\"https://colab.research.google.com/assets/colab-badge.svg\" alt=\"Open In Colab\"/></a>"
      ]
    },
    {
      "cell_type": "markdown",
      "id": "cc022903",
      "metadata": {
        "id": "cc022903"
      },
      "source": [
        "# Hands on Tasks / Homework"
      ]
    },
    {
      "cell_type": "markdown",
      "id": "34cdc05e",
      "metadata": {
        "id": "34cdc05e"
      },
      "source": [
        "## Task 0 - Comments"
      ]
    },
    {
      "cell_type": "markdown",
      "id": "9b6008a3",
      "metadata": {
        "id": "9b6008a3"
      },
      "source": [
        "Comments are lines of code that Python will intentionally ignore. Comments are a great way to leave notes to yourself and to other people who will later need to figure out what that code does.\n",
        "\n",
        "There are two ways to write comments in Python:\n",
        "\n",
        "Using # will tell Python to ignore the remainder of the text on the current line. This is an in-line comment:"
      ]
    },
    {
      "cell_type": "code",
      "execution_count": null,
      "id": "115c9870",
      "metadata": {
        "id": "115c9870"
      },
      "outputs": [],
      "source": [
        "# This is an in-line comment."
      ]
    },
    {
      "cell_type": "markdown",
      "id": "9de13137",
      "metadata": {
        "id": "9de13137"
      },
      "source": [
        "NOTE: As you write code, you should regularly add comments to clarify the function of parts of your code. Good commenting can help communicate the intent of your code—both for others and for your future self.\n",
        "\n",
        "For each of the following tasks, add a comment about your code that states which task you are working on (ex. `# Code for task 12`). Once you have completed a task, you can comment out the printed value from that section, so that you do not continue to see the output of all the previous tasks each time. (There isn't a real output for this task!)"
      ]
    },
    {
      "cell_type": "markdown",
      "id": "5e122c25",
      "metadata": {
        "id": "5e122c25"
      },
      "source": [
        "## Task 1 - Declare Variables"
      ]
    },
    {
      "cell_type": "markdown",
      "id": "84da4db6",
      "metadata": {
        "id": "84da4db6"
      },
      "source": [
        "Last class, we went over several Python data types. A \"data type\" describes the quality or structure of a piece of information. Some of the data types that we saw last class include:\n",
        "\n",
        "- `int` for integers (1,0,-4),\n",
        "- `str` for strings ('asdf', 'b', '234'),\n",
        "- `float` for floating point numbers (1.2, 3.44444, 6.2837),\n",
        "- `bool` for booleans (True, False),\n",
        "- `list` for lists ([1,2,3], ['qw45', 134]),\n",
        "\n",
        "For example, computers distinguish between numbers, such as the number 12, and strings, such as \"12\", \"dog\", or \"123 cats\", which are collections of characters. Computers can perform mathematical operations on a number, but not on a string.\n",
        "\n",
        "Variables allow computers to store and manipulate data in a dynamic fashion. They do this by using a \"label\" to point to the data rather than using the data itself. Any of the data types may be stored in a variable, and the value of a variable can be modified.\n",
        "\n",
        "We can create a new Python variable by assigning a value to a label, using the = assignment operator."
      ]
    },
    {
      "cell_type": "code",
      "execution_count": 1,
      "id": "201f6300",
      "metadata": {
        "id": "201f6300"
      },
      "outputs": [],
      "source": [
        "#Change \"tess\" with your own name and run it\n",
        "my_name = \"Milena\""
      ]
    },
    {
      "cell_type": "markdown",
      "id": "abd495de",
      "metadata": {
        "id": "abd495de"
      },
      "source": [
        "creates a variable called my_name. A variable name can be composed of characters, numbers, and the _ underscore character. It can't start with a number.\n",
        "-  `Task 1` Create a variable called our_class and assign it the value \"Intro to CS\". Print the value of this variable to make sure that it has been set to Intro to CS."
      ]
    },
    {
      "cell_type": "code",
      "execution_count": 2,
      "id": "d5bef3d7",
      "metadata": {
        "colab": {
          "base_uri": "https://localhost:8080/"
        },
        "id": "d5bef3d7",
        "outputId": "b873b413-064d-4951-e9d1-1c6f64f5eb5a"
      },
      "outputs": [
        {
          "output_type": "stream",
          "name": "stdout",
          "text": [
            "Intro to CS\n"
          ]
        }
      ],
      "source": [
        "#write your solution here for Task 1\n",
        "our_class=(\"Intro to CS\")\n",
        "print(our_class)"
      ]
    },
    {
      "cell_type": "markdown",
      "id": "0e522b42",
      "metadata": {
        "id": "0e522b42"
      },
      "source": [
        "## Task 2 - Assign the value of one variable to another"
      ]
    },
    {
      "cell_type": "markdown",
      "id": "2e72ed7e",
      "metadata": {
        "id": "2e72ed7e"
      },
      "source": [
        "After a value is assigned to a variable using the assignment operator, you can assign the value of that variable to another variable using the assignment operator. Here's an example:"
      ]
    },
    {
      "cell_type": "code",
      "execution_count": null,
      "id": "95c74a41",
      "metadata": {
        "id": "95c74a41"
      },
      "outputs": [],
      "source": [
        "my_var = 'asdf'\n",
        "my_num = my_var\n",
        "print(my_num)\n",
        "# outputs 'asdf'"
      ]
    },
    {
      "cell_type": "markdown",
      "id": "b27284bf",
      "metadata": {
        "id": "b27284bf"
      },
      "source": [
        "- `Task 2`Create a variable a and assign it to the value of 5. Assign the contents of a to a new variable, b. Print the values of a and b and make sure these are the same."
      ]
    },
    {
      "cell_type": "code",
      "execution_count": 5,
      "id": "312d8b1c",
      "metadata": {
        "colab": {
          "base_uri": "https://localhost:8080/"
        },
        "id": "312d8b1c",
        "outputId": "d5421d44-72aa-43f3-c006-5f83d5e6765c"
      },
      "outputs": [
        {
          "output_type": "stream",
          "name": "stdout",
          "text": [
            "5\n",
            "5\n"
          ]
        }
      ],
      "source": [
        "#write your solution here for Task 2\n",
        "a=5\n",
        "b=a\n",
        "print(b)\n",
        "print(a)\n"
      ]
    },
    {
      "cell_type": "markdown",
      "id": "ee997dc1",
      "metadata": {
        "id": "ee997dc1"
      },
      "source": [
        "## Task 3 - Adding"
      ]
    },
    {
      "cell_type": "markdown",
      "id": "0e0deba4",
      "metadata": {
        "id": "0e0deba4"
      },
      "source": [
        "`Task 3`\n",
        "- Create a variable `c` and assign it to the value of two integers added together (i.e. `2 + 4`). Print `c` and make sure that this is equal to the sum of the two numbers you have added together.\n",
        "- Print the sum of `c` and `2`.\n",
        "- Using the variable `a` (value = 5) from Task 2, print the sum of `a` and `c`.\n",
        "- Increment (increase) the value of `c` by 2.\n",
        "\n",
        "Hint: you can increment the value of a variable by using either the `+=` operator (i.e. `my_var += 5`) or by reassigning the variable (i.e. `my_var = my_var + 5`)."
      ]
    },
    {
      "cell_type": "code",
      "execution_count": 11,
      "id": "8fae6753",
      "metadata": {
        "colab": {
          "base_uri": "https://localhost:8080/"
        },
        "id": "8fae6753",
        "outputId": "3fbedd34-a147-4227-a9e1-a937440c1a77"
      },
      "outputs": [
        {
          "output_type": "stream",
          "name": "stdout",
          "text": [
            "6\n",
            "11\n",
            "8\n"
          ]
        }
      ],
      "source": [
        "#write your solution here for Task 3\n",
        "c= 2+4\n",
        "print(c)\n",
        "print(a+c)\n",
        "c+=2\n",
        "print(c)"
      ]
    },
    {
      "cell_type": "markdown",
      "id": "bb67024f",
      "metadata": {
        "id": "bb67024f"
      },
      "source": [
        "## Task 4 -  Subtracting"
      ]
    },
    {
      "cell_type": "markdown",
      "id": "f0bd496f",
      "metadata": {
        "id": "f0bd496f"
      },
      "source": [
        "`Task 4`\n",
        "- Create a variable `d` and assign it to the value of an integer subtracted from another (i.e. `4 - 3`). Print `d` and make sure that this is equal to the difference of the two numbers.\n",
        "- Print the expression subtracting `d` from `a`.\n",
        "- Decrement (decrease) the value of `d` by 2.\n",
        "\n",
        "Hint: just like with `+=`, you can decrement by using the `-=` operator or by reassigning the variable (i.e. `my_var = my_var - 5`)."
      ]
    },
    {
      "cell_type": "code",
      "execution_count": 16,
      "id": "9f0af008",
      "metadata": {
        "colab": {
          "base_uri": "https://localhost:8080/"
        },
        "id": "9f0af008",
        "outputId": "71b8e9bc-80d5-4951-972e-b172539a40b5"
      },
      "outputs": [
        {
          "output_type": "stream",
          "name": "stdout",
          "text": [
            "1\n",
            "4\n",
            "-1\n"
          ]
        }
      ],
      "source": [
        "#write your solution here for Task 4\n",
        "\n",
        "d= 4-3\n",
        "print(d)\n",
        "print(a-d)\n",
        "d-=2\n",
        "print(d)\n"
      ]
    },
    {
      "cell_type": "markdown",
      "id": "664ca090",
      "metadata": {
        "id": "664ca090"
      },
      "source": [
        "## Task 5 - Multiplying"
      ]
    },
    {
      "cell_type": "markdown",
      "id": "ed68a964",
      "metadata": {
        "id": "ed68a964"
      },
      "source": [
        "`Task 5`\n",
        "- Create a variable `e` and assign it to the value of an integer multiplied by another (i.e. `3 * 9`). Print `e` and make sure that this is equal to the product of the two numbers you have multiplied.\n",
        "- Print the expression multiplying `e` with `a`.\n",
        "- Multiply the value of `e` by 2.\n",
        "\n",
        "Hint: just like with `-=`, you can multiply the value of a variable by using the `*=` operator or by reassigning the variable (i.e. `my_var = my_var * 5`)."
      ]
    },
    {
      "cell_type": "code",
      "execution_count": 19,
      "id": "30084840",
      "metadata": {
        "colab": {
          "base_uri": "https://localhost:8080/"
        },
        "id": "30084840",
        "outputId": "34dbcd9b-73b4-4d61-fb8c-c0106eed9b4a"
      },
      "outputs": [
        {
          "output_type": "stream",
          "name": "stdout",
          "text": [
            "27\n",
            "135\n",
            "54\n"
          ]
        }
      ],
      "source": [
        "#write your solution here for Task 5\n",
        "e=3*9\n",
        "print(e)\n",
        "print(e*a)\n",
        "e*=2\n",
        "print(e)"
      ]
    },
    {
      "cell_type": "markdown",
      "id": "949a8507",
      "metadata": {
        "id": "949a8507"
      },
      "source": [
        "## Task 6 - Dividing"
      ]
    },
    {
      "cell_type": "markdown",
      "id": "3f3afea4",
      "metadata": {
        "id": "3f3afea4"
      },
      "source": [
        "`Task 6`\n",
        "- Create a variable `f` and assign it to the value of a number divided by another (i.e. `3 / 9`). Print `f` and make sure that this is equal to the quotient (result of the division).\n",
        "- Print the expression dividing `f` by `a`.\n",
        "- Divide the value of `f` by 2.\n",
        "\n",
        "Hint: just like with `*=`, you can multiply the value of a variable by using the `/=` operator or by reassigning the variable (i.e. `my_var = my_var / 5`).\n",
        "\n",
        "Note that there are multiple \"types\" of division. In Python, `/` (as used above) divides as we normally think of division and can return a floating point value. There is a second operator, `//`, that performs what is called \"integer division\" which means that it discards the remainder (i.e. no value after the decimal point)."
      ]
    },
    {
      "cell_type": "code",
      "execution_count": 27,
      "id": "07bcd768",
      "metadata": {
        "colab": {
          "base_uri": "https://localhost:8080/"
        },
        "id": "07bcd768",
        "outputId": "2b6a3d4c-0bc9-434d-8720-562bdbb14df8"
      },
      "outputs": [
        {
          "output_type": "stream",
          "name": "stdout",
          "text": [
            "3.0\n",
            "0.6\n",
            "1.5\n",
            "1.0\n"
          ]
        }
      ],
      "source": [
        "#write your solution here for Task 6\n",
        "f=9/3\n",
        "print(f)\n",
        "print(f/a)\n",
        "f/=2\n",
        "print(f)\n",
        "f//=1\n",
        "print(f)\n"
      ]
    },
    {
      "cell_type": "markdown",
      "id": "02f77c0b",
      "metadata": {
        "id": "02f77c0b"
      },
      "source": [
        "## Task 7 - Modulo (remainder)"
      ]
    },
    {
      "cell_type": "markdown",
      "id": "0dbf82d8",
      "metadata": {
        "id": "0dbf82d8"
      },
      "source": [
        "The modulo (%) or remainder operator gives the remainder of the division of two numbers. Example:\n",
        "- 5 % 2 = 1 because\n",
        "- 2 * 2 = 4\n",
        "- 5 - 4 = 1 (Remainder)"
      ]
    },
    {
      "cell_type": "code",
      "execution_count": null,
      "id": "385dbafe",
      "metadata": {
        "id": "385dbafe"
      },
      "outputs": [],
      "source": [
        "print(5 % 2)\n",
        "print(2 * 2)\n",
        "print(5 - 4)"
      ]
    },
    {
      "cell_type": "markdown",
      "id": "6363a8ae",
      "metadata": {
        "id": "6363a8ae"
      },
      "source": [
        "This can be useful to check, among other things, whether a number is even or odd, by checking the remainder of the division of the number by 2:\n",
        "- 17 % 2 = 1 (17 is Odd)\n",
        "- 48 % 2 = 0 (48 is Even)"
      ]
    },
    {
      "cell_type": "code",
      "execution_count": null,
      "id": "cceb94f0",
      "metadata": {
        "id": "cceb94f0"
      },
      "outputs": [],
      "source": [
        "print(17 % 2 )\n",
        "print(48 % 2 )"
      ]
    },
    {
      "cell_type": "markdown",
      "id": "c71e7671",
      "metadata": {
        "id": "c71e7671"
      },
      "source": [
        "`Task7`\n",
        "\n",
        "Copy the following code and replace `VALUE_HERE` with an integer so that the value of `mod_output` is equal to 3."
      ]
    },
    {
      "cell_type": "code",
      "execution_count": 40,
      "id": "17be39f8",
      "metadata": {
        "colab": {
          "base_uri": "https://localhost:8080/"
        },
        "id": "17be39f8",
        "outputId": "8cafbb87-53a1-4323-af7d-4e4615d5b0c1"
      },
      "outputs": [
        {
          "output_type": "stream",
          "name": "stdout",
          "text": [
            "3\n"
          ]
        }
      ],
      "source": [
        "#write your solution here for Task 7\n",
        "a = 6\n",
        "mod_output = 9 % a\n",
        "print(mod_output)"
      ]
    },
    {
      "cell_type": "markdown",
      "id": "acdcb91b",
      "metadata": {
        "id": "acdcb91b"
      },
      "source": [
        "## Task 8 - String variables"
      ]
    },
    {
      "cell_type": "markdown",
      "id": "00797552",
      "metadata": {
        "id": "00797552"
      },
      "source": [
        "Recall that a string is a series of zero or more characters that are enclosed in either single or double quotes, or triple quotes (the same as with multiline comments). Valid strings in Python include:"
      ]
    },
    {
      "cell_type": "code",
      "execution_count": null,
      "id": "502c419b",
      "metadata": {
        "id": "502c419b"
      },
      "outputs": [],
      "source": [
        "\"\"  # empty string\"'hello'\"\n",
        "'adf'\n",
        "'\"asdf\"'\n",
        "\"\"\"asdf\"\"\""
      ]
    },
    {
      "cell_type": "markdown",
      "id": "fa26326e",
      "metadata": {
        "id": "fa26326e"
      },
      "source": [
        "In Python, you can \"concatenate\", or join, two strings together using the `+` operator. In Python, `'hello' + ' world'` would equal `'hello world'`.\n",
        "\n",
        "`Task 8`\n",
        "\n",
        "- Create two new string variables: `my_first_name` and `my_last_name` and assign them to the values of your first and last name. Print out the value of each variable to confirm this.\n",
        "- Concatenate the two string variables and print this result. Additionally, try to add a space between the two. (Hint: you can concatenate more than one string in an expression, like: `'hello' + ',' + 'world'`).\n",
        "- Create a new variable called `my_fullname` and set this to the value of `my_first_name` concatenated with a space and then `my_last_name` (as in the exercise directly above this).\n",
        "- Recall the `+=` operator that we used to increment a variable. This can also be used to concatenate a string onto the end of a string variable. Try this operator out by adding the line: `my_first_name += ' is awesome'` and printing out `my_first_name`. Is this value what you expected?"
      ]
    },
    {
      "cell_type": "code",
      "execution_count": 46,
      "id": "4b1b0e99",
      "metadata": {
        "colab": {
          "base_uri": "https://localhost:8080/"
        },
        "id": "4b1b0e99",
        "outputId": "3e8dae96-445b-4f4c-e01e-0cddd0a49e7b"
      },
      "outputs": [
        {
          "output_type": "stream",
          "name": "stdout",
          "text": [
            "Milena H\n",
            "Milena H\n"
          ]
        }
      ],
      "source": [
        "#write your solution here for Task 8\n",
        "my_first_name= (\"Milena\")\n",
        "my_last_name=(\"H\")\n",
        "print(f'{my_first_name} {my_last_name}')\n",
        "my_fullname=(my_first_name +\" \"+ my_last_name )\n",
        "print(my_fullname)"
      ]
    },
    {
      "cell_type": "markdown",
      "id": "c888cc30",
      "metadata": {
        "id": "c888cc30"
      },
      "source": [
        "## Task 9 - String lengths"
      ]
    },
    {
      "cell_type": "markdown",
      "id": "18946031",
      "metadata": {
        "id": "18946031"
      },
      "source": [
        "In Python, you can find the length of a String value by writing using the built-in len function. Example:"
      ]
    },
    {
      "cell_type": "code",
      "execution_count": null,
      "id": "2ae9372c",
      "metadata": {
        "id": "2ae9372c"
      },
      "outputs": [],
      "source": [
        "len(\"redi\")\n",
        "# outputs 4\n"
      ]
    },
    {
      "cell_type": "code",
      "execution_count": null,
      "id": "2f4607c3",
      "metadata": {
        "id": "2f4607c3"
      },
      "outputs": [],
      "source": [
        "len('hello, world')\n",
        "# outputs 12"
      ]
    },
    {
      "cell_type": "markdown",
      "id": "1278fad9",
      "metadata": {
        "id": "1278fad9"
      },
      "source": [
        "`Task 9`\n",
        "- Print the lengths of each of the following variables below\n",
        "- Write a line of code that defines the variable `total_length` as the sum of the lengths of all three variables below"
      ]
    },
    {
      "cell_type": "code",
      "execution_count": null,
      "id": "a795de7a",
      "metadata": {
        "id": "a795de7a"
      },
      "outputs": [],
      "source": [
        "empty = ''\n",
        "language = \"Python\"\n",
        "sentence = \"I'm a really long sentence\""
      ]
    },
    {
      "cell_type": "code",
      "execution_count": 51,
      "id": "5052eb58",
      "metadata": {
        "colab": {
          "base_uri": "https://localhost:8080/"
        },
        "id": "5052eb58",
        "outputId": "060056f9-e7c9-4a61-ad1b-469a3f95a22b"
      },
      "outputs": [
        {
          "output_type": "execute_result",
          "data": {
            "text/plain": [
              "26"
            ]
          },
          "metadata": {},
          "execution_count": 51
        }
      ],
      "source": [
        "#write your solution here for Task 9\n",
        "len('')\n",
        "len(\"Python\")\n",
        "len(\"I'm a really long sentence\")"
      ]
    },
    {
      "cell_type": "markdown",
      "id": "38fdfdfc",
      "metadata": {
        "id": "38fdfdfc"
      },
      "source": [
        "## Task 10 - Strings as iterables"
      ]
    },
    {
      "cell_type": "markdown",
      "id": "ea1c66f7",
      "metadata": {
        "id": "ea1c66f7"
      },
      "source": [
        "Bracket notation, or \"array indexing\" is a way to get a character at a specific index within a string. (This also works for lists and other ordered iterables). Most modern programming languages, like Python, don't start counting at 1 like humans do, but instead start at 0. This is referred to as \"zero-indexing\".\n",
        "\n",
        "For example, the character at the index 0 in the word `Hello` is `H`. So if `word = \"Hello\"`, you can get the value of the first letter of this string by using: `word[0]`.\n",
        "\n",
        "In Python, you can also use negative numbers to index backwards into a word. For example, `word[-1]` will get you the last letter in the word.\n",
        "\n",
        "\n",
        "`Task 10`\n",
        "\n",
        "- Use bracket notation to find the first character in `sentence` from task 9, and print this out.\n",
        "- Use bracket notation and the `len` operator to find the last letter in the word, and print this out. (Hint: the last index is equal to the length of the word - 1 (because of zero-indexing)).\n",
        "- Use the negative number indexing to find and print the second to last letter in `sentence`."
      ]
    },
    {
      "cell_type": "code",
      "execution_count": 60,
      "id": "b02f40f7",
      "metadata": {
        "colab": {
          "base_uri": "https://localhost:8080/"
        },
        "id": "b02f40f7",
        "outputId": "d712ee28-6526-4de3-9d89-08741cf7465a"
      },
      "outputs": [
        {
          "output_type": "stream",
          "name": "stdout",
          "text": [
            "I\n",
            "e\n",
            "c\n"
          ]
        }
      ],
      "source": [
        "#write your solution here for Task 10\n",
        "sentence = \"I'm a really long sentence\"\n",
        "print(sentence[0])\n",
        "print(sentence[len(\"sentence\")-1])\n",
        "print(sentence[-2])"
      ]
    },
    {
      "cell_type": "markdown",
      "id": "f719d6eb",
      "metadata": {
        "id": "f719d6eb"
      },
      "source": [
        "## Task 11 - Slicing strings"
      ]
    },
    {
      "cell_type": "markdown",
      "id": "63dee979",
      "metadata": {
        "id": "63dee979"
      },
      "source": [
        "You can use the same principle we just used to retrieve a part of the string (sometimes referred to as a \"substring\"). Here are some examples (note: leaving the index off before or after the : is shorthand for the start and end of the word):"
      ]
    },
    {
      "cell_type": "code",
      "execution_count": null,
      "id": "9a1ff50c",
      "metadata": {
        "id": "9a1ff50c"
      },
      "outputs": [],
      "source": [
        "word = \"Hello!\"\n",
        "word[1:2]  # outputs: \"e\"\n"
      ]
    },
    {
      "cell_type": "code",
      "execution_count": null,
      "id": "346836bf",
      "metadata": {
        "id": "346836bf"
      },
      "outputs": [],
      "source": [
        "word[0:3]  # outputs: \"Hel\"; equivalent to word[:3]\n"
      ]
    },
    {
      "cell_type": "code",
      "execution_count": null,
      "id": "6fe464ec",
      "metadata": {
        "id": "6fe464ec"
      },
      "outputs": [],
      "source": [
        "word[:]  # outputs: \"Hello!\""
      ]
    },
    {
      "cell_type": "code",
      "execution_count": null,
      "id": "5e68b97e",
      "metadata": {
        "id": "5e68b97e"
      },
      "outputs": [],
      "source": [
        "word[3:6]  # outputs: \"lo!\"; equivalent to word[3:]"
      ]
    },
    {
      "cell_type": "code",
      "execution_count": null,
      "id": "b20232c8",
      "metadata": {
        "id": "b20232c8"
      },
      "outputs": [],
      "source": [
        "word[3:]"
      ]
    },
    {
      "cell_type": "code",
      "execution_count": null,
      "id": "97e7238f",
      "metadata": {
        "id": "97e7238f"
      },
      "outputs": [],
      "source": [
        "word[2:-2]  # outputs: \"ll\"; equivalent to word[2:len(word) - 2]"
      ]
    },
    {
      "cell_type": "code",
      "execution_count": null,
      "id": "70ffca22",
      "metadata": {
        "id": "70ffca22"
      },
      "outputs": [],
      "source": [
        "word[2:len(word) - 2]"
      ]
    },
    {
      "cell_type": "markdown",
      "id": "91d67800",
      "metadata": {
        "id": "91d67800"
      },
      "source": [
        "`Task 11`\n",
        "- Using the variable `sentence` from task 9, `sentence = \"I'm a really long sentence\"`, create a new variable `only_really` that contains only the word `really` in the sentence, and print the value of this variable.\n",
        "- Using the variable `sentence` again, create a new variable called `first_letters` that contains the first 4 letters of `sentence`."
      ]
    },
    {
      "cell_type": "code",
      "execution_count": 68,
      "id": "4a883b82",
      "metadata": {
        "colab": {
          "base_uri": "https://localhost:8080/"
        },
        "id": "4a883b82",
        "outputId": "5358a18d-1746-471a-af65-c4a38c72418a"
      },
      "outputs": [
        {
          "output_type": "stream",
          "name": "stdout",
          "text": [
            "really\n",
            "I'm a r\n"
          ]
        }
      ],
      "source": [
        "#write your solution here for Task 11\n",
        "only_really= sentence[6:12]\n",
        "print(only_really)\n",
        "first_letters= sentence[0:7]\n",
        "print(first_letters)"
      ]
    },
    {
      "cell_type": "markdown",
      "id": "d10e4920-c98b-4ca8-9e1b-cad784fc84b3",
      "metadata": {
        "id": "d10e4920-c98b-4ca8-9e1b-cad784fc84b3"
      },
      "source": [
        "### Task 12 - Booleans\n",
        "\n",
        "- Create a variable called `boolean_var` and set it to `False`.\n",
        "- Print the value of the opposite of `boolean_var` (using `not`)."
      ]
    },
    {
      "cell_type": "code",
      "execution_count": 70,
      "id": "54a53bae-a670-4269-af15-4626a70c25d5",
      "metadata": {
        "colab": {
          "base_uri": "https://localhost:8080/"
        },
        "id": "54a53bae-a670-4269-af15-4626a70c25d5",
        "outputId": "fb838013-dd00-412f-edb5-86fd0db53fe7"
      },
      "outputs": [
        {
          "output_type": "stream",
          "name": "stdout",
          "text": [
            "True\n"
          ]
        }
      ],
      "source": [
        "boolean_var=False\n",
        "print(not boolean_var)"
      ]
    },
    {
      "cell_type": "markdown",
      "id": "348e9ecf",
      "metadata": {
        "id": "348e9ecf"
      },
      "source": [
        "### Task 12 - Comparisons\n",
        "\n",
        "There are many comparison operators in Python. All of these operators return a boolean `True` or `False` value.\n",
        "\n",
        "Note that you can assign a boolean expression to a variable:\n",
        "\n",
        "```py\n",
        "a = 1 > 2\n",
        "print(a)\n",
        "# outputs: False\n",
        "```\n",
        "\n",
        "Assign these examples to variables and print them out:\n",
        "\n",
        "- `1 == 1`\n",
        "- `1 == '1'`\n",
        "- `2 != '2'`\n",
        "- `2 < 4`\n",
        "- `2 > 3`\n",
        "- `1 != True`\n",
        "- `0 != False`\n",
        "\n",
        "Were any of these results surprising?"
      ]
    },
    {
      "cell_type": "code",
      "source": [
        "a= 1 == 1\n",
        "print(a)\n",
        "b = 1 == '1'\n",
        "print(b)\n",
        "c= 2 != '2'\n",
        "print(c)\n",
        "d= 1 != True\n",
        "print(d)\n",
        "e= 0 != False\n",
        "print(e)"
      ],
      "metadata": {
        "colab": {
          "base_uri": "https://localhost:8080/"
        },
        "id": "DS1sc6PsxWxq",
        "outputId": "cb97916c-43bd-4c72-a6d3-ecfb3d99328b"
      },
      "id": "DS1sc6PsxWxq",
      "execution_count": 79,
      "outputs": [
        {
          "output_type": "stream",
          "name": "stdout",
          "text": [
            "True\n",
            "False\n",
            "True\n",
            "False\n",
            "False\n"
          ]
        }
      ]
    },
    {
      "cell_type": "markdown",
      "id": "0603cb2b",
      "metadata": {
        "id": "0603cb2b"
      },
      "source": [
        "### Task 13 - Conditions\n",
        "- Use the definition: `my_list = [1, 2, 3]`. Create an if statement that checks if the last value of the list is equal to 3 and if so, prints \"the condition was true\".\n",
        "- Building off of the above exercise, make the condition false (so that \"the condition was true\" no longer prints).\n",
        "- Now, add an `else` clause that prints \"the condition was false\".\n",
        "- Now, add an `elif` condition that checks if the length of the list is equal to 3 and if so, prints \"the elif condition is true\"."
      ]
    },
    {
      "cell_type": "code",
      "source": [
        "my_list = [1, 2, 3]\n",
        "\n",
        "if my_list[-1] == 2:\n",
        "  print(\"the condition was true\")\n",
        "elif len(my_list)==3:\n",
        "  print(\"the elif condition is true\")\n",
        "else:\n",
        "  print(\"the condition was false\")\n"
      ],
      "metadata": {
        "colab": {
          "base_uri": "https://localhost:8080/"
        },
        "id": "T42n3grsyIQH",
        "outputId": "a4dc18a1-66ea-4697-ee19-850aeacff587"
      },
      "id": "T42n3grsyIQH",
      "execution_count": 91,
      "outputs": [
        {
          "output_type": "stream",
          "name": "stdout",
          "text": [
            "the elif condition is true\n"
          ]
        }
      ]
    },
    {
      "cell_type": "markdown",
      "id": "76b734fc",
      "metadata": {
        "id": "76b734fc"
      },
      "source": [
        "### Task 14\n",
        "- write a python script that checks if the entered value has 2 digits and print true if the condition is true, print false if else is True."
      ]
    },
    {
      "cell_type": "code",
      "source": [
        "number = int(input(\"Enter a number: \"))\n",
        "\n",
        "if len(str(number)) == 2:\n",
        "  print(True)\n",
        "else:\n",
        "  print(False)"
      ],
      "metadata": {
        "colab": {
          "base_uri": "https://localhost:8080/"
        },
        "id": "69BsnQOt06ud",
        "outputId": "54cc2e1f-d617-4bb3-a1cf-70f62c5688d1"
      },
      "id": "69BsnQOt06ud",
      "execution_count": 92,
      "outputs": [
        {
          "output_type": "stream",
          "name": "stdout",
          "text": [
            "Enter a number: 1\n",
            "False\n"
          ]
        }
      ]
    },
    {
      "cell_type": "markdown",
      "id": "85cce5d7",
      "metadata": {
        "id": "85cce5d7"
      },
      "source": [
        "### Task 15\n",
        "- write a python script that checks if the person is eligible for voting or not. Consider voting age is greater or equal to 18"
      ]
    },
    {
      "cell_type": "code",
      "source": [
        "age = int(input(\"Enter your age: \"))\n",
        "\n",
        "if age >= 18:\n",
        "  print(\"You are eligible to vote.\")\n",
        "else:\n",
        "  print(\"You are not eligible to vote.\")"
      ],
      "metadata": {
        "colab": {
          "base_uri": "https://localhost:8080/"
        },
        "id": "68Pi9ov72A9A",
        "outputId": "104c1991-7dcc-40fb-e207-60f385f6cd6c"
      },
      "id": "68Pi9ov72A9A",
      "execution_count": 93,
      "outputs": [
        {
          "output_type": "stream",
          "name": "stdout",
          "text": [
            "Enter your age: 18\n",
            "You are eligible to vote.\n"
          ]
        }
      ]
    },
    {
      "cell_type": "markdown",
      "id": "490a5e34",
      "metadata": {
        "id": "490a5e34"
      },
      "source": [
        "### Task 16\n",
        "- write a python script that prints the lower number of the user entered"
      ]
    },
    {
      "cell_type": "code",
      "source": [
        "num1 = int(input(\"Enter the first number: \"))\n",
        "num2 = int(input(\"Enter the second number: \"))\n",
        "\n",
        "if num1 < num2:\n",
        "  print(num1)\n",
        "else:\n",
        "  print(num2)"
      ],
      "metadata": {
        "colab": {
          "base_uri": "https://localhost:8080/"
        },
        "id": "TyMyO4Lo2QHp",
        "outputId": "d1302c3b-deec-45be-b7a4-52c7f6ae92a3"
      },
      "id": "TyMyO4Lo2QHp",
      "execution_count": 94,
      "outputs": [
        {
          "output_type": "stream",
          "name": "stdout",
          "text": [
            "Enter the first number: 1\n",
            "Enter the second number: -1\n",
            "-1\n"
          ]
        }
      ]
    },
    {
      "cell_type": "markdown",
      "id": "2c791a1d",
      "metadata": {
        "id": "2c791a1d"
      },
      "source": [
        "### Task 17\n",
        "- write a python script that checks if the entered number is positive or negative"
      ]
    },
    {
      "cell_type": "code",
      "source": [
        "number = int(input(\"Enter a number: \"))\n",
        "\n",
        "if number > 0:\n",
        "  print(\"The number is positive.\")\n",
        "elif number < 0:\n",
        "  print(\"The number is negative.\")\n",
        "else:\n",
        "  print(\"The number is zero.\")"
      ],
      "metadata": {
        "colab": {
          "base_uri": "https://localhost:8080/"
        },
        "id": "ah8YLQqE2nCT",
        "outputId": "19c54c10-1e58-4c88-a08d-283177f3ae94"
      },
      "id": "ah8YLQqE2nCT",
      "execution_count": 95,
      "outputs": [
        {
          "output_type": "stream",
          "name": "stdout",
          "text": [
            "Enter a number: 2\n",
            "The number is positive.\n"
          ]
        }
      ]
    },
    {
      "cell_type": "markdown",
      "id": "0eb07c11",
      "metadata": {
        "id": "0eb07c11"
      },
      "source": [
        "### Task 18\n",
        "- write a python script that checks if the entered number is divisible by 2 and 3"
      ]
    },
    {
      "cell_type": "code",
      "source": [
        "number = int(input(\"Enter a number: \"))\n",
        "\n",
        "if number % 2 == 0 and number % 3 == 0:\n",
        "  print(\"The number is divisible by both 2 and 3.\")\n",
        "elif number % 2 == 0:\n",
        "  print(\"The number is divisible by 2 but not 3.\")\n",
        "elif number % 3 == 0:\n",
        "  print(\"The number is divisible by 3 but not 2.\")\n",
        "else:\n",
        "  print(\"The number is not divisible by 2 or 3.\")"
      ],
      "metadata": {
        "colab": {
          "base_uri": "https://localhost:8080/"
        },
        "id": "KIk1NWKD21W3",
        "outputId": "d94e5ec6-2d21-47ef-bfa1-abedb8f8db3b"
      },
      "id": "KIk1NWKD21W3",
      "execution_count": 96,
      "outputs": [
        {
          "output_type": "stream",
          "name": "stdout",
          "text": [
            "Enter a number: 2\n",
            "The number is divisible by 2 but not 3.\n"
          ]
        }
      ]
    },
    {
      "cell_type": "code",
      "execution_count": null,
      "id": "4cd928d0-2efe-4b64-b283-1ff40cf89343",
      "metadata": {
        "id": "4cd928d0-2efe-4b64-b283-1ff40cf89343"
      },
      "outputs": [],
      "source": []
    },
    {
      "cell_type": "markdown",
      "id": "54648b8a-887f-4ab7-ae2d-9a818bd41cb9",
      "metadata": {
        "id": "54648b8a-887f-4ab7-ae2d-9a818bd41cb9"
      },
      "source": [
        "### Task 19\n",
        "\n",
        "- Fix the Exercise 3 from last lesson so that it works correctly if the hour input is 1. For example, if the hour is bigger than 22 or smaller than 7, the program should consider it to be late and so young users should sleep and older users still can watch a movie.\n",
        "\n",
        "```python\n",
        "age = int(input('Enter your age:\\n'))\n",
        "\n",
        "hour = int(input('What is the hour? (0-24)\\n'))\n",
        "\n",
        "is_late = hour >= 22\n",
        "\n",
        "is_too_young = age <= 12\n",
        "\n",
        "if is_late:\n",
        "    if is_too_young:\n",
        "        print('You should be sleeping ...')\n",
        "    else:\n",
        "        print('Want to watch a movie?')\n",
        "else:\n",
        "    print('Go for a walk!')\n",
        "```"
      ]
    },
    {
      "cell_type": "code",
      "execution_count": 97,
      "id": "139b5af2-83c9-4a74-96da-d16275a2912b",
      "metadata": {
        "colab": {
          "base_uri": "https://localhost:8080/"
        },
        "id": "139b5af2-83c9-4a74-96da-d16275a2912b",
        "outputId": "32023b61-aa76-46b8-881d-999e2c2b9e54"
      },
      "outputs": [
        {
          "output_type": "stream",
          "name": "stdout",
          "text": [
            "Enter your age:\n",
            "6\n",
            "What is the hour? (0-24)\n",
            "22\n",
            "You should be sleeping...\n"
          ]
        }
      ],
      "source": [
        "age = int(input('Enter your age:\\n'))\n",
        "\n",
        "hour = int(input('What is the hour? (0-24)\\n'))\n",
        "\n",
        "# Check if the hour is between 22 and 6, inclusive\n",
        "is_late = (hour >= 22) or (hour <= 6)\n",
        "\n",
        "is_too_young = age <= 12\n",
        "\n",
        "if is_late:\n",
        "    if is_too_young:\n",
        "        print('You should be sleeping...')\n",
        "    else:\n",
        "        print('You can still watch a movie if you want.')\n",
        "else:\n",
        "    print('Go for a walk!')"
      ]
    },
    {
      "cell_type": "markdown",
      "id": "6103dc05-d055-40e4-83d4-30f14833480b",
      "metadata": {
        "id": "6103dc05-d055-40e4-83d4-30f14833480b"
      },
      "source": [
        "### Task 20\n",
        "- Reimplement the Exercise 3 from last lesson so that it doesn’t contain nested conditions, e.g. there is no if conditional inside another if conditional. It’s possible to do using if-elif-else construction and logical operators: or, and, not\n",
        "\n",
        "```python\n",
        "age = int(input('Enter your age:\\n'))\n",
        "\n",
        "hour = int(input('What is the hour? (0-24)\\n'))\n",
        "\n",
        "is_late = hour >= 22\n",
        "\n",
        "is_too_young = age <= 12\n",
        "\n",
        "if is_late:\n",
        "    if is_too_young:\n",
        "        print('You should be sleeping ...')\n",
        "    else:\n",
        "        print('Want to watch a movie?')\n",
        "else:\n",
        "    print('Go for a walk!')\n",
        "```"
      ]
    },
    {
      "cell_type": "code",
      "source": [
        "age = int(input('Enter your age:\\n'))\n",
        "\n",
        "hour = int(input('What is the hour? (0-24)\\n'))\n",
        "\n",
        "\n",
        "is_late = (hour >= 22) or (hour <= 6)\n",
        "\n",
        "if is_late and age <= 12:\n",
        "    print('You should be sleeping...')\n",
        "elif is_late:\n",
        "    print('You can still watch a movie if you want.')\n",
        "else:\n",
        "    print('Go for a walk!')"
      ],
      "metadata": {
        "colab": {
          "base_uri": "https://localhost:8080/"
        },
        "id": "vR92-10m33dO",
        "outputId": "8ba08fb5-77ca-4162-f7e4-b16815d16ccf"
      },
      "id": "vR92-10m33dO",
      "execution_count": 98,
      "outputs": [
        {
          "output_type": "stream",
          "name": "stdout",
          "text": [
            "Enter your age:\n",
            "18\n",
            "What is the hour? (0-24)\n",
            "22\n",
            "You can still watch a movie if you want.\n"
          ]
        }
      ]
    },
    {
      "cell_type": "markdown",
      "id": "c41be5b5",
      "metadata": {
        "id": "c41be5b5"
      },
      "source": [
        "### Bonus\n",
        "- write a python script that checks if the entered number is divisible by 2 and 3\n",
        "- use nested if conditions to check 4 conditions below\n",
        "   * Number is divisible by 2 and 3\n",
        "   * Number is divisible by 2 but not by 3\n",
        "   * Number is divisible by 3 but not by 2\n",
        "   * Number is not divisible by both\n",
        "- Test your script by giving 5,6,8,9 numbers"
      ]
    },
    {
      "cell_type": "code",
      "source": [
        "number = int(input(\"Enter a number: \"))\n",
        "\n",
        "if number % 2 == 0:\n",
        "    if number % 3 == 0:\n",
        "        print(\"Number is divisible by both 2 and 3\")\n",
        "    else:\n",
        "        print(\"Number is divisible by 2 but not by 3\")\n",
        "else:\n",
        "    if number % 3 == 0:\n",
        "        print(\"Number is divisible by 3 but not by 2\")\n",
        "    else:\n",
        "        print(\"Number is not divisible by both 2 and 3\")"
      ],
      "metadata": {
        "colab": {
          "base_uri": "https://localhost:8080/"
        },
        "id": "sLlUMQE_4K7X",
        "outputId": "45bcf0ab-b676-4cad-fa1c-287bbe1779cd"
      },
      "id": "sLlUMQE_4K7X",
      "execution_count": 99,
      "outputs": [
        {
          "output_type": "stream",
          "name": "stdout",
          "text": [
            "Enter a number: 5\n",
            "Number is not divisible by both 2 and 3\n"
          ]
        }
      ]
    },
    {
      "cell_type": "markdown",
      "id": "8ba3d3d8",
      "metadata": {
        "id": "8ba3d3d8"
      },
      "source": []
    }
  ],
  "metadata": {
    "kernelspec": {
      "display_name": "Python 3 (ipykernel)",
      "language": "python",
      "name": "python3"
    },
    "language_info": {
      "codemirror_mode": {
        "name": "ipython",
        "version": 3
      },
      "file_extension": ".py",
      "mimetype": "text/x-python",
      "name": "python",
      "nbconvert_exporter": "python",
      "pygments_lexer": "ipython3",
      "version": "3.11.3"
    },
    "colab": {
      "provenance": [],
      "include_colab_link": true
    }
  },
  "nbformat": 4,
  "nbformat_minor": 5
}